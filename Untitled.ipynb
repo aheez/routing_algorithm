{
 "cells": [
  {
   "cell_type": "code",
   "execution_count": 1,
   "id": "a94bcce5-5d4a-4bb5-ab44-5f7622d8ca86",
   "metadata": {},
   "outputs": [],
   "source": [
    "import pandas as pd\n",
    "import numpy as np\n",
    "import matplotlib.pyplot as plt"
   ]
  },
  {
   "cell_type": "code",
   "execution_count": 6,
   "id": "5220d9cc-e9c1-459b-987c-0760af4e9ca3",
   "metadata": {},
   "outputs": [],
   "source": [
    "data = [pd.read_csv('results.csv').to_numpy()]"
   ]
  },
  {
   "cell_type": "code",
   "execution_count": 7,
   "id": "7fcc2b80-2860-4375-9d23-05977980fbf6",
   "metadata": {},
   "outputs": [],
   "source": [
    "for i in range(2, 5):\n",
    "    data.append(pd.read_csv('results' + str(i) + '.csv').to_numpy())"
   ]
  },
  {
   "cell_type": "code",
   "execution_count": 19,
   "id": "b885ace3-e390-440d-ac86-a1c8e7f6b145",
   "metadata": {},
   "outputs": [
    {
     "data": {
      "text/plain": [
       "array([[5.00000000e+00, 5.67916667e+00],\n",
       "       [1.00000000e+01, 1.23764000e+01],\n",
       "       [1.50000000e+01, 1.15375000e+01],\n",
       "       [2.00000000e+01, 1.98235667e+01],\n",
       "       [2.50000000e+01, 1.42844433e+02],\n",
       "       [3.00000000e+01, 2.74263667e+01],\n",
       "       [3.50000000e+01, 2.49313933e+02],\n",
       "       [4.00000000e+01, 5.48213867e+02],\n",
       "       [4.50000000e+01, 7.24697167e+02],\n",
       "       [5.00000000e+01, 1.00931667e+03],\n",
       "       [5.50000000e+01, 1.80165267e+02],\n",
       "       [6.00000000e+01, 2.42161667e+03],\n",
       "       [6.50000000e+01, 2.17853193e+03],\n",
       "       [7.00000000e+01, 2.81850970e+03],\n",
       "       [7.50000000e+01, 3.45577917e+03],\n",
       "       [8.00000000e+01, 3.86885693e+03],\n",
       "       [8.50000000e+01, 5.39971387e+03],\n",
       "       [9.00000000e+01, 7.23999443e+03],\n",
       "       [9.50000000e+01, 5.39289863e+03],\n",
       "       [1.00000000e+02, 7.64560557e+03]])"
      ]
     },
     "execution_count": 19,
     "metadata": {},
     "output_type": "execute_result"
    }
   ],
   "source": []
  }
 ],
 "metadata": {
  "kernelspec": {
   "display_name": "Python 3 (ipykernel)",
   "language": "python",
   "name": "python3"
  },
  "language_info": {
   "codemirror_mode": {
    "name": "ipython",
    "version": 3
   },
   "file_extension": ".py",
   "mimetype": "text/x-python",
   "name": "python",
   "nbconvert_exporter": "python",
   "pygments_lexer": "ipython3",
   "version": "3.9.13"
  }
 },
 "nbformat": 4,
 "nbformat_minor": 5
}
